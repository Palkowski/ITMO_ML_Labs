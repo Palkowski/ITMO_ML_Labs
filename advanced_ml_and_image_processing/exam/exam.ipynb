{
  "nbformat": 4,
  "nbformat_minor": 0,
  "metadata": {
    "colab": {
      "provenance": [],
      "gpuType": "T4"
    },
    "kernelspec": {
      "name": "python3",
      "display_name": "Python 3"
    },
    "language_info": {
      "name": "python"
    },
    "accelerator": "GPU"
  },
  "cells": [
    {
      "cell_type": "code",
      "execution_count": 24,
      "metadata": {
        "colab": {
          "base_uri": "https://localhost:8080/"
        },
        "id": "km4TcPP979JM",
        "outputId": "c22c203c-3583-4c7a-d235-31d61580231b"
      },
      "outputs": [
        {
          "output_type": "stream",
          "name": "stdout",
          "text": [
            "-2.0\n"
          ]
        }
      ],
      "source": [
        "def x3(x1, x2):\n",
        "  return (5 + 20 * x1 - 3 * x2)/(-15)\n",
        "\n",
        "print(x3(2, 5))"
      ]
    },
    {
      "cell_type": "code",
      "source": [
        "def psi(x1, x2):\n",
        "  return -0.273 + 0.839 * x1 + 0.134 * x2\n",
        "\n",
        "print(psi(3, 9))"
      ],
      "metadata": {
        "colab": {
          "base_uri": "https://localhost:8080/"
        },
        "id": "CoalG8Gn8eDW",
        "outputId": "a280564b-8b57-43d6-e343-d9912e19e198"
      },
      "execution_count": 25,
      "outputs": [
        {
          "output_type": "stream",
          "name": "stdout",
          "text": [
            "3.4499999999999997\n"
          ]
        }
      ]
    },
    {
      "cell_type": "code",
      "source": [
        "import numpy as np\n",
        "print(round(1/(1 + np.exp(-psi(3, 9))), 3))"
      ],
      "metadata": {
        "colab": {
          "base_uri": "https://localhost:8080/"
        },
        "id": "hbZJaE6s86I5",
        "outputId": "9c09e823-9add-478d-baec-a4780991d60c"
      },
      "execution_count": 26,
      "outputs": [
        {
          "output_type": "stream",
          "name": "stdout",
          "text": [
            "0.969\n"
          ]
        }
      ]
    },
    {
      "cell_type": "markdown",
      "source": [
        "#Задание\n",
        "\n",
        "1. Используйте метод главных компонент для набора данных MNIST (данные загрузите из keras.datasets, train dataset объема 60000)"
      ],
      "metadata": {
        "id": "Hm3A3qeO9MDr"
      }
    },
    {
      "cell_type": "code",
      "source": [
        "from keras.datasets import mnist\n",
        "from sklearn.decomposition import PCA\n",
        "\n",
        "(X_train, y_train), (X_pred, y_pred) = mnist.load_data()\n",
        "\n",
        "X_train = X_train.reshape(60000, 28*28)\n",
        "# X_pred = X_pred.reshape(60000, -1)\n",
        "print(X_train.shape)"
      ],
      "metadata": {
        "colab": {
          "base_uri": "https://localhost:8080/"
        },
        "id": "yd9IVrx09QBz",
        "outputId": "28b81fe5-be17-4eed-b9b4-eb4ee4195391"
      },
      "execution_count": 27,
      "outputs": [
        {
          "output_type": "stream",
          "name": "stdout",
          "text": [
            "(60000, 784)\n"
          ]
        }
      ]
    },
    {
      "cell_type": "code",
      "source": [
        "pca = PCA(n_components=49, svd_solver='full')\n",
        "pca.fit(X_train)\n",
        "print(sum(pca.explained_variance_ratio_))"
      ],
      "metadata": {
        "colab": {
          "base_uri": "https://localhost:8080/"
        },
        "id": "52oNtPZ59pNS",
        "outputId": "97528e68-39e5-4d91-eee3-85d24be3bc97"
      },
      "execution_count": 28,
      "outputs": [
        {
          "output_type": "stream",
          "name": "stdout",
          "text": [
            "0.8214281186628802\n"
          ]
        }
      ]
    },
    {
      "cell_type": "code",
      "source": [
        "X_centered = X_train - X_train.mean(axis=0)\n",
        "weights = pca.components_\n",
        "print(X_centered.shape, weights.shape)\n",
        "z = pca.transform(X_train)\n",
        "print(z.shape)"
      ],
      "metadata": {
        "colab": {
          "base_uri": "https://localhost:8080/"
        },
        "id": "u9pBARfG-N3y",
        "outputId": "8d7facfe-dbde-445e-c13d-6dcaf79f26cd"
      },
      "execution_count": 29,
      "outputs": [
        {
          "output_type": "stream",
          "name": "stdout",
          "text": [
            "(60000, 784) (49, 784)\n",
            "(60000, 49)\n"
          ]
        }
      ]
    },
    {
      "cell_type": "code",
      "source": [
        "from sklearn.model_selection import train_test_split\n",
        "\n",
        "X_train1, X_test1, y_train1, y_test1 = train_test_split(z, y_train, test_size=0.3, random_state=68)"
      ],
      "metadata": {
        "id": "eoP3O0IoCIuN"
      },
      "execution_count": 30,
      "outputs": []
    },
    {
      "cell_type": "code",
      "source": [
        "from sklearn.multiclass import OneVsRestClassifier\n",
        "from sklearn.ensemble import RandomForestClassifier\n",
        "\n",
        "rfc = RandomForestClassifier(criterion='gini',\n",
        "                             min_samples_leaf=10,\n",
        "                             max_depth=20,\n",
        "                             n_estimators=10,\n",
        "                             random_state=68)\n",
        "rfc_ovr = OneVsRestClassifier(rfc).fit(X_train1, y_train1)\n",
        "y_pred1 = rfc_ovr.predict(X_test1)"
      ],
      "metadata": {
        "id": "eP-19VhhCdc4"
      },
      "execution_count": 31,
      "outputs": []
    },
    {
      "cell_type": "code",
      "source": [
        "cl3 = 0\n",
        "for id, i in enumerate(y_pred1):\n",
        "  if i == y_test1[id] == 3:\n",
        "    cl3 += 1\n",
        "print(cl3)"
      ],
      "metadata": {
        "colab": {
          "base_uri": "https://localhost:8080/"
        },
        "id": "jecyjZlSFEfj",
        "outputId": "429f0b79-d856-4c9f-db8e-893a2f640072"
      },
      "execution_count": 32,
      "outputs": [
        {
          "output_type": "stream",
          "name": "stdout",
          "text": [
            "1591\n"
          ]
        }
      ]
    },
    {
      "cell_type": "code",
      "source": [
        "from sklearn.linear_model import LogisticRegression\n",
        "\n",
        "lrc = LogisticRegression(solver='lbfgs', random_state=68)\n",
        "\n",
        "lrc_ovr = OneVsRestClassifier(lrc).fit(X_train1, y_train1)\n",
        "y_pred2 = lrc_ovr.predict(X_test1)"
      ],
      "metadata": {
        "colab": {
          "base_uri": "https://localhost:8080/"
        },
        "id": "dmFx1J-CFcEG",
        "outputId": "8807ffc5-7113-4fbf-97fb-8265949abb34"
      },
      "execution_count": 33,
      "outputs": [
        {
          "output_type": "stream",
          "name": "stderr",
          "text": [
            "/usr/local/lib/python3.10/dist-packages/sklearn/linear_model/_logistic.py:458: ConvergenceWarning: lbfgs failed to converge (status=1):\n",
            "STOP: TOTAL NO. of ITERATIONS REACHED LIMIT.\n",
            "\n",
            "Increase the number of iterations (max_iter) or scale the data as shown in:\n",
            "    https://scikit-learn.org/stable/modules/preprocessing.html\n",
            "Please also refer to the documentation for alternative solver options:\n",
            "    https://scikit-learn.org/stable/modules/linear_model.html#logistic-regression\n",
            "  n_iter_i = _check_optimize_result(\n"
          ]
        }
      ]
    },
    {
      "cell_type": "code",
      "source": [
        "cl8 = 0\n",
        "for id, i in enumerate(y_pred2):\n",
        "  if i == y_test1[id] == 8:\n",
        "    cl8 += 1\n",
        "print(cl8)"
      ],
      "metadata": {
        "colab": {
          "base_uri": "https://localhost:8080/"
        },
        "id": "d3jOPD02F_ii",
        "outputId": "472c6b28-b16f-4991-ec85-f03d197dfe2e"
      },
      "execution_count": 34,
      "outputs": [
        {
          "output_type": "stream",
          "name": "stdout",
          "text": [
            "1495\n"
          ]
        }
      ]
    },
    {
      "cell_type": "code",
      "source": [
        "from sklearn.tree import DecisionTreeClassifier\n",
        "\n",
        "dtc = DecisionTreeClassifier(criterion='gini',\n",
        "                             min_samples_leaf=10,\n",
        "                             max_depth=20,\n",
        "                             random_state=68)\n",
        "\n",
        "dtc_ovr = OneVsRestClassifier(dtc).fit(X_train1, y_train1)\n",
        "y_pred3 = dtc_ovr.predict(X_test1)"
      ],
      "metadata": {
        "id": "85M7q5vnGKX_"
      },
      "execution_count": 35,
      "outputs": []
    },
    {
      "cell_type": "code",
      "source": [
        "cl5 = 0\n",
        "for id, i in enumerate(y_pred3):\n",
        "  if i == y_test1[id] == 5:\n",
        "    cl5 += 1\n",
        "print(cl5)"
      ],
      "metadata": {
        "colab": {
          "base_uri": "https://localhost:8080/"
        },
        "id": "MjFPqRX9GcNE",
        "outputId": "fc0c2c45-8f0c-4dfb-c60c-0a4eacb703b3"
      },
      "execution_count": 36,
      "outputs": [
        {
          "output_type": "stream",
          "name": "stdout",
          "text": [
            "1198\n"
          ]
        }
      ]
    },
    {
      "cell_type": "code",
      "source": [
        "import pandas as pd\n",
        "\n",
        "df = pd.read_csv('pred_for_task.csv')\n",
        "\n",
        "fnames = df['FileName']\n",
        "y_new = np.array(df['Label'])\n",
        "X_new = np.array(df.drop(['FileName', 'Label'], axis = 1))"
      ],
      "metadata": {
        "id": "o4KV8u9EG2Fh"
      },
      "execution_count": 37,
      "outputs": []
    },
    {
      "cell_type": "code",
      "source": [
        "z_new = pca.transform(X_new)\n",
        "print(fnames[17], round(rfc_ovr.predict_proba(z_new)[17][7], 3), y_new[17])\n",
        "print(fnames[14], round(lrc_ovr.predict_proba(z_new)[14][1], 3), y_new[14])\n",
        "print(fnames[18], round(dtc_ovr.predict_proba(z_new)[18][3], 3), y_new[18])"
      ],
      "metadata": {
        "colab": {
          "base_uri": "https://localhost:8080/"
        },
        "id": "utj3K1dyHZoG",
        "outputId": "3cb2c1cc-aff9-41ac-d559-30d3d2f6fb17"
      },
      "execution_count": 46,
      "outputs": [
        {
          "output_type": "stream",
          "name": "stdout",
          "text": [
            "file18 0.88 7\n",
            "file15 0.902 1\n",
            "file19 0.674 3\n"
          ]
        }
      ]
    }
  ]
}