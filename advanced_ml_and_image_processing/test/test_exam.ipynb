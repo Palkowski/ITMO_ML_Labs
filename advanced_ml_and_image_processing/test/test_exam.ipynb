{
  "nbformat": 4,
  "nbformat_minor": 0,
  "metadata": {
    "colab": {
      "provenance": []
    },
    "kernelspec": {
      "name": "python3",
      "display_name": "Python 3"
    },
    "language_info": {
      "name": "python"
    }
  },
  "cells": [
    {
      "cell_type": "markdown",
      "source": [
        "# Примеры заданий"
      ],
      "metadata": {
        "id": "gAO_mOWK3pTC"
      }
    },
    {
      "cell_type": "markdown",
      "source": [
        "Задания на экзамене будут аналогичны индивидуальным заданиям курса и нижеприведенным примерам.\n",
        "\n",
        "Количество заданий, количество попыток на каждое отдельное задания, количество баллов за задание могут отличаться от примера."
      ],
      "metadata": {
        "id": "k3dA14EQ3twD"
      }
    },
    {
      "cell_type": "markdown",
      "source": [
        "## Задача 1\n",
        "\n",
        "Уравнение линейной регрессии задается соотношением $2 + 3 X_1 - 4 X_2 = 0$.\n",
        "\n",
        "Предскажите отклик $X_2$ для тестового объекта — (4):"
      ],
      "metadata": {
        "id": "BnYIAtxE3wjC"
      }
    },
    {
      "cell_type": "code",
      "execution_count": 1,
      "metadata": {
        "colab": {
          "base_uri": "https://localhost:8080/"
        },
        "id": "JhM9ZXpO2h8U",
        "outputId": "56a5f5b2-b5b8-4fb4-91c3-1b511eb937b7"
      },
      "outputs": [
        {
          "output_type": "stream",
          "name": "stdout",
          "text": [
            "3.5\n"
          ]
        }
      ],
      "source": [
        "print((2+3*4)/4)"
      ]
    },
    {
      "cell_type": "markdown",
      "source": [
        "Может ли данное уравнение задавать регрессию, построенную по тренировочным данным: $(1, 2)$ и $(-1, 0)$? Если нет, постройте правильное уравнение и введите его в поле ввода, если да — введите $1$."
      ],
      "metadata": {
        "id": "G8UiU9T74eRs"
      }
    },
    {
      "cell_type": "code",
      "source": [
        "import numpy as np\n",
        "from sklearn.linear_model import LinearRegression\n",
        "\n",
        "X = np.array([[1], [-1]])\n",
        "y = np.array([2, 0])\n",
        "reg = LinearRegression().fit(X, y)\n",
        "print(f'X1 * {reg.coef_[0]} - X2 + {reg.intercept_} = 0')"
      ],
      "metadata": {
        "colab": {
          "base_uri": "https://localhost:8080/"
        },
        "id": "AZqsawyC4nd6",
        "outputId": "3ce7a538-d5cf-436d-faac-24ef7683b059"
      },
      "execution_count": 2,
      "outputs": [
        {
          "output_type": "stream",
          "name": "stdout",
          "text": [
            "X1 * 0.9999999999999998 - X2 + 1.0 = 0\n"
          ]
        }
      ]
    },
    {
      "cell_type": "markdown",
      "source": [
        "## Задача 2\n",
        "\n",
        "Модель логистической регрессии обучена на определение класса +. $\\Psi = -2.992 + 0.240 X_1 + 1.102 X_2$. На рисунке отображены точки, на которых обучена модель, но вам неизвестно какие из них относятся к классу + и -.\n",
        "\n",
        "Определите, в каком направлении расположен нормальный вектор гиперплоскости."
      ],
      "metadata": {
        "id": "QsZO8tc47PhS"
      }
    },
    {
      "cell_type": "code",
      "source": [
        "norm_vec = np.array([0.240, 1.102])\n",
        "print('[X1, X2] =', norm_vec)"
      ],
      "metadata": {
        "colab": {
          "base_uri": "https://localhost:8080/"
        },
        "id": "i-RyKvKf8W_7",
        "outputId": "7a5f71aa-8118-4c52-fd9f-3971d97b9e98"
      },
      "execution_count": 36,
      "outputs": [
        {
          "output_type": "stream",
          "name": "stdout",
          "text": [
            "[X1, X2] = [0.24  1.102]\n"
          ]
        }
      ]
    },
    {
      "cell_type": "markdown",
      "source": [
        "Учитывая, что тестовая точка $A$ с координатами $(0, 0)$ относится к классу +, верно ли она классифицирована моделью?"
      ],
      "metadata": {
        "id": "NLWBOY6SuPAh"
      }
    },
    {
      "cell_type": "code",
      "source": [
        "def psi(x1, x2):\n",
        "  return - 2.992 + 0.240 * x1 + 1.102 * x2\n",
        "\n",
        "print(psi(0, 0))  # class '-'"
      ],
      "metadata": {
        "colab": {
          "base_uri": "https://localhost:8080/"
        },
        "id": "CYhReDF3uV30",
        "outputId": "286a78f7-9af8-47f6-f6cb-577a46ea4259"
      },
      "execution_count": 37,
      "outputs": [
        {
          "output_type": "stream",
          "name": "stdout",
          "text": [
            "-2.992\n"
          ]
        }
      ]
    },
    {
      "cell_type": "markdown",
      "source": [
        "Вычислите вероятность отнесения точки $A$ к классу +:"
      ],
      "metadata": {
        "id": "F8QvxExnudno"
      }
    },
    {
      "cell_type": "code",
      "source": [
        "print(np.round(1 / (1 + np.exp(-psi(0, 0))), 3))"
      ],
      "metadata": {
        "colab": {
          "base_uri": "https://localhost:8080/"
        },
        "id": "iAy4dCW5ufre",
        "outputId": "b06e5eb4-dbb6-42df-d23c-4ea01347e1e2"
      },
      "execution_count": 38,
      "outputs": [
        {
          "output_type": "stream",
          "name": "stdout",
          "text": [
            "0.048\n"
          ]
        }
      ]
    },
    {
      "cell_type": "markdown",
      "source": [
        "## Задача 3\n",
        "\n",
        "В данном упражнении вам предстоит решить задачу многокласовой классификации, используя в качестве тренировочного набора данных — набор данных MNIST, содержащий образы рукописных цифр.\n",
        "\n",
        "1. Используйте метод главных компонент для набора данных MNIST (train dataset объема 60000). Определите, какое минимальное количество главных компонент $M$ необходимо использовать, чтобы доля объясненной дисперсии превышала 0.83 (была строго больше указанного значения)."
      ],
      "metadata": {
        "id": "TkpWNT5kAAYz"
      }
    },
    {
      "cell_type": "code",
      "source": [
        "import numpy as np\n",
        "from sklearn.decomposition import PCA\n",
        "from keras.datasets import mnist\n",
        "from sklearn.model_selection import train_test_split\n",
        "\n",
        "(X_train, y_train), (X_pred, y_pred) = mnist.load_data()\n",
        "\n",
        "X_train = np.reshape(X_train, (X_train.shape[0], -1))\n",
        "X_pred = np.reshape(X_pred, (X_pred.shape[0], -1))\n",
        "\n",
        "pca = PCA(n_components=52, svd_solver='full')\n",
        "pca.fit(X_train)\n",
        "print(sum(pca.explained_variance_ratio_))  # M = 52"
      ],
      "metadata": {
        "colab": {
          "base_uri": "https://localhost:8080/"
        },
        "id": "5ijKLWq8ANdV",
        "outputId": "042b9080-a95c-4f59-af47-12bd8d359994"
      },
      "execution_count": 39,
      "outputs": [
        {
          "output_type": "stream",
          "name": "stdout",
          "text": [
            "0.8309650832314033\n"
          ]
        }
      ]
    },
    {
      "cell_type": "markdown",
      "source": [
        "2. Найдите счеты, отвечающие найденным в предыдущем пункте $M$ главным компонент `PCA(n_components=M, svd_solver='full')`."
      ],
      "metadata": {
        "id": "CapdqxvNu6kI"
      }
    },
    {
      "cell_type": "code",
      "source": [
        "X_centered = X_train - X_train.mean(axis=0)\n",
        "weights = pca.components_.T\n",
        "print(X_centered.shape, weights.shape)\n",
        "z = X_centered @ weights\n",
        "print(z.shape)"
      ],
      "metadata": {
        "colab": {
          "base_uri": "https://localhost:8080/"
        },
        "id": "DEHzURyQvP3N",
        "outputId": "c1f21476-7222-4123-fc8c-37f9c6173cb8"
      },
      "execution_count": 40,
      "outputs": [
        {
          "output_type": "stream",
          "name": "stdout",
          "text": [
            "(60000, 784) (784, 52)\n",
            "(60000, 52)\n"
          ]
        }
      ]
    },
    {
      "cell_type": "markdown",
      "source": [
        "3. Разделите полученную выборку (после сокращения размерности) случайным образом в отношении 70/30: train_test_split(X_train, y_train, test_size=0.3, random_state=126). Введите выборочное среднее нулевой колонки для полученного тренировочного набора:"
      ],
      "metadata": {
        "id": "ZFg05EOYvPEo"
      }
    },
    {
      "cell_type": "code",
      "source": [
        "X_train1, X_test1, y_train1, y_test1 = train_test_split(z, y_train, test_size=0.3, random_state=126)\n",
        "print(np.mean(X_train1[:, 0]).round(3))"
      ],
      "metadata": {
        "colab": {
          "base_uri": "https://localhost:8080/"
        },
        "id": "Is6YF-QDFS_E",
        "outputId": "287de062-c679-4415-9d85-bf596ee2a94a"
      },
      "execution_count": 41,
      "outputs": [
        {
          "output_type": "stream",
          "name": "stdout",
          "text": [
            "0.597\n"
          ]
        }
      ]
    },
    {
      "cell_type": "markdown",
      "source": [
        "4. Используя метод многоклассовой классификации One-vs-All `OneVsRestClassifier()`, обучите алгоритм случайного леса `RandomForestClassifier()` с параметрами `criterion='gini'`, `min_samples_leaf=10`, `max_depth=20`, `n_estimators=10`, `random_state=126`. Выполните оценку с помощью тестовых данных."
      ],
      "metadata": {
        "id": "g2bNIU9MvdnU"
      }
    },
    {
      "cell_type": "code",
      "source": [
        "from sklearn.ensemble import RandomForestClassifier\n",
        "from sklearn.multiclass import OneVsRestClassifier\n",
        "from sklearn.metrics import classification_report\n",
        "\n",
        "rfc = RandomForestClassifier(criterion='gini',\n",
        "                             min_samples_leaf=10,\n",
        "                             max_depth=20,\n",
        "                             n_estimators=10,\n",
        "                             random_state=126)\n",
        "ovr = OneVsRestClassifier(rfc).fit(X_train1, y_train1)\n",
        "y_pred1 = ovr.predict(X_test1)\n",
        "\n",
        "target_names = ['0', '1', '2', '3', '4', '5', '6', '7', '8', '9']\n",
        "print(classification_report(y_test1, y_pred1, target_names=target_names))"
      ],
      "metadata": {
        "colab": {
          "base_uri": "https://localhost:8080/"
        },
        "id": "iJJxGbXHIqJ7",
        "outputId": "69b7bd02-378c-4b92-9c8e-e12394b3bc9d"
      },
      "execution_count": 17,
      "outputs": [
        {
          "output_type": "stream",
          "name": "stdout",
          "text": [
            "              precision    recall  f1-score   support\n",
            "\n",
            "           0       0.95      0.96      0.95      1817\n",
            "           1       0.96      0.97      0.97      2048\n",
            "           2       0.91      0.90      0.91      1784\n",
            "           3       0.89      0.89      0.89      1785\n",
            "           4       0.92      0.93      0.92      1745\n",
            "           5       0.89      0.88      0.88      1610\n",
            "           6       0.94      0.96      0.95      1736\n",
            "           7       0.94      0.93      0.93      1901\n",
            "           8       0.89      0.86      0.88      1804\n",
            "           9       0.89      0.88      0.89      1770\n",
            "\n",
            "    accuracy                           0.92     18000\n",
            "   macro avg       0.92      0.92      0.92     18000\n",
            "weighted avg       0.92      0.92      0.92     18000\n",
            "\n"
          ]
        }
      ]
    },
    {
      "cell_type": "markdown",
      "source": [
        "Введите количество верно классифицированных объектов класса 5 для тестовых данных:"
      ],
      "metadata": {
        "id": "tvnjWinrvnnQ"
      }
    },
    {
      "cell_type": "code",
      "source": [
        "correct_5s = 0\n",
        "for id, i in enumerate(y_pred1):\n",
        "  if i == y_test1[id] == 5:\n",
        "    correct_5s += 1\n",
        "\n",
        "print(correct_5s)"
      ],
      "metadata": {
        "colab": {
          "base_uri": "https://localhost:8080/"
        },
        "id": "tSqFsP6jZi-5",
        "outputId": "0a724b0c-9cb6-4e35-bda5-8171ac865290"
      },
      "execution_count": 18,
      "outputs": [
        {
          "output_type": "stream",
          "name": "stdout",
          "text": [
            "1414\n"
          ]
        }
      ]
    },
    {
      "cell_type": "markdown",
      "source": [
        "5. Примените полученное ранее преобразование метода главных компонент к новым данным (идентификаторы строк соответствуют файлам изображений)."
      ],
      "metadata": {
        "id": "u22nJ1Ievs2K"
      }
    },
    {
      "cell_type": "code",
      "source": [
        "import pandas as pd\n",
        "df = pd.read_csv('pred_for_task.csv')"
      ],
      "metadata": {
        "id": "VUezjtcFabS6"
      },
      "execution_count": 30,
      "outputs": []
    },
    {
      "cell_type": "code",
      "source": [
        "fnames = df['FileName']\n",
        "y = np.array(df['Label'])\n",
        "X = np.array(df.drop(['FileName', 'Label'], axis=1))\n",
        "print(y.shape, X.shape)\n",
        "X = pca.transform(X)"
      ],
      "metadata": {
        "colab": {
          "base_uri": "https://localhost:8080/"
        },
        "id": "03tcPC4wa4Yk",
        "outputId": "e2cccfe1-5c21-4d08-87e7-8070a6374d37"
      },
      "execution_count": 31,
      "outputs": [
        {
          "output_type": "stream",
          "name": "stdout",
          "text": [
            "(30,) (30, 784)\n"
          ]
        }
      ]
    },
    {
      "cell_type": "markdown",
      "source": [
        "6. Выполните предсказание для указанных изображений цифр с помощью обученных алгоритмов.\n",
        "\n",
        "Введите вероятность отнесения изображения file20 к назначенному классу алгоритмом случайного леса."
      ],
      "metadata": {
        "id": "aSNaiE2jvxjP"
      }
    },
    {
      "cell_type": "code",
      "source": [
        "y_pred2 = ovr.predict_proba(X)\n",
        "print(f'P(class({fnames[19]}) == 4) =', round(y_pred2[19][4], 3))"
      ],
      "metadata": {
        "colab": {
          "base_uri": "https://localhost:8080/"
        },
        "id": "q_dyhpkTbWgG",
        "outputId": "8df92e8c-7aa2-49c6-a339-47828b6be713"
      },
      "execution_count": 43,
      "outputs": [
        {
          "output_type": "stream",
          "name": "stdout",
          "text": [
            "P(class(file20) == 4) = 0.963\n"
          ]
        }
      ]
    }
  ]
}