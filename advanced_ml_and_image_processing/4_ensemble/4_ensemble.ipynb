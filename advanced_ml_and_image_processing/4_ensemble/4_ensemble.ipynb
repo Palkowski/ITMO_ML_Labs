{
  "cells": [
    {
      "cell_type": "code",
      "execution_count": 1,
      "metadata": {
        "id": "BBt11lsCoY_B",
        "colab": {
          "base_uri": "https://localhost:8080/"
        },
        "outputId": "1d7cb46b-bdd6-42be-f82c-2b2da034d503"
      },
      "outputs": [
        {
          "output_type": "stream",
          "name": "stdout",
          "text": [
            "Looking in indexes: https://pypi.org/simple, https://us-python.pkg.dev/colab-wheels/public/simple/\n",
            "Requirement already satisfied: pip in /usr/local/lib/python3.10/dist-packages (23.1.2)\n",
            "Looking in indexes: https://pypi.org/simple, https://us-python.pkg.dev/colab-wheels/public/simple/\n",
            "Requirement already satisfied: imutils in /usr/local/lib/python3.10/dist-packages (0.5.4)\n",
            "Looking in indexes: https://pypi.org/simple, https://us-python.pkg.dev/colab-wheels/public/simple/\n",
            "Requirement already satisfied: opencv-python in /usr/local/lib/python3.10/dist-packages (4.7.0.72)\n",
            "Requirement already satisfied: numpy>=1.21.2 in /usr/local/lib/python3.10/dist-packages (from opencv-python) (1.22.4)\n"
          ]
        }
      ],
      "source": [
        "!pip install --upgrade pip\n",
        "!pip install imutils\n",
        "!pip install opencv-python\n",
        "# !pip install --upgrade scikit-learn==0.23.0"
      ]
    },
    {
      "cell_type": "code",
      "source": [
        "!pip show scikit-learn"
      ],
      "metadata": {
        "colab": {
          "base_uri": "https://localhost:8080/"
        },
        "id": "5MgGWoPypsNc",
        "outputId": "147bcde7-30cf-4c5c-e1c8-ec5a6021f134"
      },
      "execution_count": 2,
      "outputs": [
        {
          "output_type": "stream",
          "name": "stdout",
          "text": [
            "Name: scikit-learn\n",
            "Version: 1.0.2\n",
            "Summary: A set of python modules for machine learning and data mining\n",
            "Home-page: http://scikit-learn.org\n",
            "Author: \n",
            "Author-email: \n",
            "License: new BSD\n",
            "Location: /usr/local/lib/python3.10/dist-packages\n",
            "Requires: joblib, numpy, scipy, threadpoolctl\n",
            "Required-by: fastai, imbalanced-learn, librosa, lightgbm, mlxtend, qudida, sklearn-pandas, yellowbrick\n"
          ]
        }
      ]
    },
    {
      "cell_type": "code",
      "source": [
        "import numpy as np\n",
        "import cv2\n",
        "from imutils import paths\n",
        "from sklearn.ensemble import BaggingClassifier\n",
        "from sklearn.tree import DecisionTreeClassifier\n",
        "from sklearn.svm import LinearSVC\n",
        "from sklearn.ensemble import RandomForestClassifier\n",
        "from sklearn.linear_model import LogisticRegression\n",
        "from sklearn.ensemble import StackingClassifier"
      ],
      "metadata": {
        "id": "5SHrEtruoeP1"
      },
      "execution_count": 3,
      "outputs": []
    },
    {
      "cell_type": "markdown",
      "source": [
        "Работа с файлами"
      ],
      "metadata": {
        "id": "6Id9Kzh-YQj0"
      }
    },
    {
      "cell_type": "code",
      "source": [
        "from google.colab import drive\n",
        "drive.mount('/content/drive')"
      ],
      "metadata": {
        "id": "59lkvwUopWUb",
        "colab": {
          "base_uri": "https://localhost:8080/"
        },
        "outputId": "1b58fd1b-b280-4705-ec0b-0c1a9aa7b4ba"
      },
      "execution_count": 4,
      "outputs": [
        {
          "output_type": "stream",
          "name": "stdout",
          "text": [
            "Drive already mounted at /content/drive; to attempt to forcibly remount, call drive.mount(\"/content/drive\", force_remount=True).\n"
          ]
        }
      ]
    },
    {
      "cell_type": "markdown",
      "source": [
        "При считывании набора данных (картинок) из папки для построения гистограммы отсортируйте названия по алфавиту, например, так (иначе тренировочные наборы данных могут отличаться даже при фиксированном `random_seed`):"
      ],
      "metadata": {
        "id": "FUWvA8BPYvhj"
      }
    },
    {
      "cell_type": "code",
      "source": [
        "train_image_paths = sorted(list(paths.list_images('/content/drive/My Drive/4_ensemble/train')))"
      ],
      "metadata": {
        "id": "iOQmwbRjYtts"
      },
      "execution_count": 5,
      "outputs": []
    },
    {
      "cell_type": "markdown",
      "source": [
        "Для работы с изображениями и получения их гистограмм - характеристик распределения интенсивности изображения, следует воспользоваться следующей функцией и библиотекой cv2:"
      ],
      "metadata": {
        "id": "ichR7G1JYi9Q"
      }
    },
    {
      "cell_type": "code",
      "source": [
        "def extract_histogram(image, bins=(8, 8, 8)):\n",
        "    hist = cv2.calcHist([image], [0, 1, 2], None, bins, [0, 256, 0, 256, 0, 256])\n",
        "    cv2.normalize(hist, hist)\n",
        "    return hist.flatten()"
      ],
      "metadata": {
        "id": "mkk0l93vodoR"
      },
      "execution_count": 6,
      "outputs": []
    },
    {
      "cell_type": "markdown",
      "source": [
        "1. Обучите базовые алгоритмы на исходном наборе данных (предварительно закодируйте классы: Cat - 1, Dog - 0)"
      ],
      "metadata": {
        "id": "v_GAHZfcLlho"
      }
    },
    {
      "cell_type": "code",
      "source": [
        "X_train = []\n",
        "y_train = []\n",
        "for i in train_image_paths:\n",
        "    X_train.append(extract_histogram(cv2.imread(i)))\n",
        "    if i.split(sep='.')[0].split(sep='/')[-1] == 'cat':\n",
        "        y_train.append(1)\n",
        "    elif i.split(sep='.')[0].split(sep='/')[-1] == 'dog':\n",
        "        y_train.append(0)\n",
        "    else:\n",
        "        print('Error')"
      ],
      "metadata": {
        "id": "VLGlEyRxr-vC"
      },
      "execution_count": 7,
      "outputs": []
    },
    {
      "cell_type": "markdown",
      "source": [
        "- Классификатор с мягким зазором и параметрами: `C = 1.92`, `random_state = 92`, остальные параметры по умолчанию"
      ],
      "metadata": {
        "id": "7i6RkDeXLRSJ"
      }
    },
    {
      "cell_type": "code",
      "source": [
        "svm_clf = LinearSVC(C=1.92, random_state=92).fit(X_train, y_train)"
      ],
      "metadata": {
        "id": "mILg6K3zLKXr"
      },
      "execution_count": 8,
      "outputs": []
    },
    {
      "cell_type": "markdown",
      "source": [
        "- Бэггинг деревьев принятия решений. Параметры дерева: `criterion = 'entropy'`, `min_samples_leaf = 10`, `max_leaf_nodes = 20`, `random_state = 92`, остальные параметры по умолчанию. Параметры бэггинга: `n_estimators = 20`, `random_state = 92`;"
      ],
      "metadata": {
        "id": "AY5N28_CL9d4"
      }
    },
    {
      "cell_type": "code",
      "source": [
        "bag_clf = BaggingClassifier(DecisionTreeClassifier(criterion='entropy', \n",
        "                                                   min_samples_leaf=10, \n",
        "                                                   max_leaf_nodes=20,\n",
        "                                                   random_state=92),\n",
        "                            n_estimators=20, \n",
        "                            random_state=92).fit(X_train, y_train)"
      ],
      "metadata": {
        "id": "j5enGl-2Vql9"
      },
      "execution_count": 9,
      "outputs": []
    },
    {
      "cell_type": "markdown",
      "source": [
        "- Случайный лес с параметрами: `n_estimators = 20`, `criterion = 'entropy'`, `min_samples_leaf = 10`, `max_leaf_nodes = 20`, `random_state = 92`, остальные параметры по умолчанию."
      ],
      "metadata": {
        "id": "ZNrH196FVq6J"
      }
    },
    {
      "cell_type": "code",
      "source": [
        "rfc_clf = RandomForestClassifier(n_estimators=20, \n",
        "                                 criterion='entropy', \n",
        "                                 min_samples_leaf=10, \n",
        "                                 max_leaf_nodes=20, \n",
        "                                 random_state=92).fit(X_train, y_train)"
      ],
      "metadata": {
        "id": "rz-5GJUEXbFL"
      },
      "execution_count": 10,
      "outputs": []
    },
    {
      "cell_type": "markdown",
      "source": [
        "2. Инициализируйте метаалгоритм (без обучения) — логистическая регрессия: `solver='lbfgs'`, `random_state = 92`, остальные параметры по умолчанию."
      ],
      "metadata": {
        "id": "-d0BsTeRXbio"
      }
    },
    {
      "cell_type": "code",
      "source": [
        "logr_clf = LogisticRegression(solver='lbfgs', random_state=92)"
      ],
      "metadata": {
        "id": "j-W1OPE6ZKiS"
      },
      "execution_count": 11,
      "outputs": []
    },
    {
      "cell_type": "markdown",
      "source": [
        "3. Обучите модель стэкинга. Используйте 2-fold (`cv = 2`) кросс-валидацию. Обучение стекинга будет выглядить так:"
      ],
      "metadata": {
        "id": "CEo91J-iZOkr"
      }
    },
    {
      "cell_type": "code",
      "source": [
        "base_estimators = [('SVM', svm_clf),\n",
        "                   ('Bagging DT', bag_clf),\n",
        "                   ('DecisionForest', rfc_clf)]\n",
        "sclf = StackingClassifier(estimators=base_estimators,\n",
        "                          final_estimator=logr_clf,\n",
        "                          cv=2).fit(X_train, y_train)\n",
        "# sclf.fit(X_train, y_train)\n",
        "print('Accuracy =', sclf.score(X_train, y_train))"
      ],
      "metadata": {
        "colab": {
          "base_uri": "https://localhost:8080/"
        },
        "id": "OCyH9xYzZSM8",
        "outputId": "6200bcf2-3188-4e84-e26a-ec304143e37d"
      },
      "execution_count": 12,
      "outputs": [
        {
          "output_type": "stream",
          "name": "stdout",
          "text": [
            "Accuracy = 0.849\n"
          ]
        }
      ]
    },
    {
      "cell_type": "markdown",
      "source": [
        "Выполните предсказание для изображений, указанных ниже. Определите вероятность отнесения изображений к классу 1 с помощью обученного метаалгоритма. Ответы округлите до тысячных."
      ],
      "metadata": {
        "id": "ffEDts8Xbw3o"
      }
    },
    {
      "cell_type": "code",
      "source": [
        "# from google.colab.patches import cv2_imshow\n",
        "list_imgs = ['/content/drive/My Drive/4_ensemble/test/cat.1046.jpg',\n",
        "             '/content/drive/My Drive/4_ensemble/test/dog.1005.jpg',\n",
        "             '/content/drive/My Drive/4_ensemble/test/dog.1019.jpg',\n",
        "             '/content/drive/My Drive/4_ensemble/test/cat.1001.jpg']\n",
        "X_test = []\n",
        "for i in list_imgs:\n",
        "  X_test.append(extract_histogram(cv2.imread(i)))\n",
        "  # cv2_imshow(cv2.imread(i))\n",
        "\n",
        "for i in sclf.predict_proba(X_test):\n",
        "  print(round(i[1], 3))"
      ],
      "metadata": {
        "colab": {
          "base_uri": "https://localhost:8080/"
        },
        "id": "BpQKHSVlbxj6",
        "outputId": "33e13757-2b04-40ec-e2e3-8b366654a828"
      },
      "execution_count": 13,
      "outputs": [
        {
          "output_type": "stream",
          "name": "stdout",
          "text": [
            "0.426\n",
            "0.096\n",
            "0.271\n",
            "0.266\n"
          ]
        }
      ]
    }
  ],
  "metadata": {
    "language_info": {
      "name": "python"
    },
    "orig_nbformat": 4,
    "colab": {
      "provenance": [],
      "gpuType": "T4"
    },
    "kernelspec": {
      "name": "python3",
      "display_name": "Python 3"
    }
  },
  "nbformat": 4,
  "nbformat_minor": 0
}